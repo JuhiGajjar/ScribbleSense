{
 "cells": [
  {
   "cell_type": "code",
   "execution_count": 1,
   "id": "40846d07",
   "metadata": {},
   "outputs": [
    {
     "name": "stdout",
     "output_type": "stream",
     "text": [
      "\n",
      "Note: you may need to restart the kernel to use updated packages.\n"
     ]
    },
    {
     "name": "stderr",
     "output_type": "stream",
     "text": [
      "Unable to create process using 'C:\\Users\\JUHI GAJJAR\\anaconda\\python.exe \"C:\\Users\\JUHI GAJJAR\\anaconda\\Scripts\\conda-script.py\" install --yes --prefix C:\\Users\\JUHI GAJJAR\\anaconda -c mlgill easyocr'\n"
     ]
    }
   ],
   "source": [
    "conda install -c mlgill easyocr"
   ]
  },
  {
   "cell_type": "code",
   "execution_count": 2,
   "id": "baa4d102",
   "metadata": {},
   "outputs": [
    {
     "name": "stderr",
     "output_type": "stream",
     "text": [
      "Unable to create process using 'C:\\Users\\JUHI GAJJAR\\anaconda\\python.exe \"C:\\Users\\JUHI GAJJAR\\anaconda\\Scripts\\pip-script.py\" install easyocr'\n"
     ]
    }
   ],
   "source": [
    "!pip install easyocr"
   ]
  },
  {
   "cell_type": "code",
   "execution_count": null,
   "id": "e98b8f57",
   "metadata": {},
   "outputs": [],
   "source": []
  }
 ],
 "metadata": {
  "kernelspec": {
   "display_name": "Python 3 (ipykernel)",
   "language": "python",
   "name": "python3"
  },
  "language_info": {
   "codemirror_mode": {
    "name": "ipython",
    "version": 3
   },
   "file_extension": ".py",
   "mimetype": "text/x-python",
   "name": "python",
   "nbconvert_exporter": "python",
   "pygments_lexer": "ipython3",
   "version": "3.11.5"
  }
 },
 "nbformat": 4,
 "nbformat_minor": 5
}
